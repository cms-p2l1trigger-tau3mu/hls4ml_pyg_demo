{
 "cells": [
  {
   "cell_type": "code",
   "execution_count": 1,
   "metadata": {},
   "outputs": [],
   "source": [
    "import pandas as pd\n",
    "import numpy as np\n",
    "import seaborn as sns\n",
    "import matplotlib.pyplot as plt"
   ]
  },
  {
   "cell_type": "code",
   "execution_count": 2,
   "metadata": {},
   "outputs": [
    {
     "data": {
      "text/html": [
       "<div>\n",
       "<style scoped>\n",
       "    .dataframe tbody tr th:only-of-type {\n",
       "        vertical-align: middle;\n",
       "    }\n",
       "\n",
       "    .dataframe tbody tr th {\n",
       "        vertical-align: top;\n",
       "    }\n",
       "\n",
       "    .dataframe thead th {\n",
       "        text-align: right;\n",
       "    }\n",
       "</style>\n",
       "<table border=\"1\" class=\"dataframe\">\n",
       "  <thead>\n",
       "    <tr style=\"text-align: right;\">\n",
       "      <th></th>\n",
       "      <th>int bitwidth</th>\n",
       "      <th>fract bitwidth</th>\n",
       "      <th>best recall 1kHz on validation data</th>\n",
       "      <th>10kHz recall on validation data</th>\n",
       "      <th>30kHz recall on validation data</th>\n",
       "      <th>auroc on validation data</th>\n",
       "      <th>full bitwidth</th>\n",
       "      <th>relative power cost compared to full precision</th>\n",
       "      <th>full precision best_val_recall_on_1kHz</th>\n",
       "      <th>full precision best_val_recall_on_10kHz</th>\n",
       "      <th>full precision best_val_recall_on_30kHz</th>\n",
       "      <th>full precision val_auroc_on_best_val_recall</th>\n",
       "      <th>recall 1kHz per relative cost</th>\n",
       "      <th>recall 10kHz per relative cost</th>\n",
       "      <th>recall 30kHz per relative cost</th>\n",
       "      <th>auroc per relative cost</th>\n",
       "    </tr>\n",
       "  </thead>\n",
       "  <tbody>\n",
       "    <tr>\n",
       "      <th>0</th>\n",
       "      <td>2</td>\n",
       "      <td>4</td>\n",
       "      <td>0.0650</td>\n",
       "      <td>0.1624</td>\n",
       "      <td>0.2239</td>\n",
       "      <td>0.9400</td>\n",
       "      <td>6</td>\n",
       "      <td>0.035156</td>\n",
       "      <td>0.5575</td>\n",
       "      <td>0.6672</td>\n",
       "      <td>0.7592</td>\n",
       "      <td>0.987</td>\n",
       "      <td>1.848889</td>\n",
       "      <td>4.619378</td>\n",
       "      <td>6.368711</td>\n",
       "      <td>26.737778</td>\n",
       "    </tr>\n",
       "    <tr>\n",
       "      <th>1</th>\n",
       "      <td>2</td>\n",
       "      <td>8</td>\n",
       "      <td>0.1829</td>\n",
       "      <td>0.1829</td>\n",
       "      <td>0.3322</td>\n",
       "      <td>0.4766</td>\n",
       "      <td>10</td>\n",
       "      <td>0.097656</td>\n",
       "      <td>0.5575</td>\n",
       "      <td>0.6672</td>\n",
       "      <td>0.7592</td>\n",
       "      <td>0.987</td>\n",
       "      <td>1.872896</td>\n",
       "      <td>1.872896</td>\n",
       "      <td>3.401728</td>\n",
       "      <td>4.880384</td>\n",
       "    </tr>\n",
       "    <tr>\n",
       "      <th>2</th>\n",
       "      <td>2</td>\n",
       "      <td>12</td>\n",
       "      <td>0.3017</td>\n",
       "      <td>0.3938</td>\n",
       "      <td>0.4944</td>\n",
       "      <td>0.9740</td>\n",
       "      <td>14</td>\n",
       "      <td>0.191406</td>\n",
       "      <td>0.5575</td>\n",
       "      <td>0.6672</td>\n",
       "      <td>0.7592</td>\n",
       "      <td>0.987</td>\n",
       "      <td>1.576229</td>\n",
       "      <td>2.057404</td>\n",
       "      <td>2.582988</td>\n",
       "      <td>5.088653</td>\n",
       "    </tr>\n",
       "    <tr>\n",
       "      <th>3</th>\n",
       "      <td>4</td>\n",
       "      <td>4</td>\n",
       "      <td>0.0035</td>\n",
       "      <td>0.0174</td>\n",
       "      <td>0.0321</td>\n",
       "      <td>0.8020</td>\n",
       "      <td>8</td>\n",
       "      <td>0.062500</td>\n",
       "      <td>0.5575</td>\n",
       "      <td>0.6672</td>\n",
       "      <td>0.7592</td>\n",
       "      <td>0.987</td>\n",
       "      <td>0.056000</td>\n",
       "      <td>0.278400</td>\n",
       "      <td>0.513600</td>\n",
       "      <td>12.832000</td>\n",
       "    </tr>\n",
       "    <tr>\n",
       "      <th>4</th>\n",
       "      <td>4</td>\n",
       "      <td>8</td>\n",
       "      <td>0.3861</td>\n",
       "      <td>0.5857</td>\n",
       "      <td>0.7053</td>\n",
       "      <td>0.9860</td>\n",
       "      <td>12</td>\n",
       "      <td>0.140625</td>\n",
       "      <td>0.5575</td>\n",
       "      <td>0.6672</td>\n",
       "      <td>0.7592</td>\n",
       "      <td>0.987</td>\n",
       "      <td>2.745600</td>\n",
       "      <td>4.164978</td>\n",
       "      <td>5.015467</td>\n",
       "      <td>7.011556</td>\n",
       "    </tr>\n",
       "  </tbody>\n",
       "</table>\n",
       "</div>"
      ],
      "text/plain": [
       "   int bitwidth  fract bitwidth  best recall 1kHz on validation data  \\\n",
       "0             2               4                               0.0650   \n",
       "1             2               8                               0.1829   \n",
       "2             2              12                               0.3017   \n",
       "3             4               4                               0.0035   \n",
       "4             4               8                               0.3861   \n",
       "\n",
       "   10kHz recall on validation data  30kHz recall on validation data  \\\n",
       "0                           0.1624                           0.2239   \n",
       "1                           0.1829                           0.3322   \n",
       "2                           0.3938                           0.4944   \n",
       "3                           0.0174                           0.0321   \n",
       "4                           0.5857                           0.7053   \n",
       "\n",
       "   auroc on validation data  full bitwidth  \\\n",
       "0                    0.9400              6   \n",
       "1                    0.4766             10   \n",
       "2                    0.9740             14   \n",
       "3                    0.8020              8   \n",
       "4                    0.9860             12   \n",
       "\n",
       "   relative power cost compared to full precision  \\\n",
       "0                                        0.035156   \n",
       "1                                        0.097656   \n",
       "2                                        0.191406   \n",
       "3                                        0.062500   \n",
       "4                                        0.140625   \n",
       "\n",
       "   full precision best_val_recall_on_1kHz  \\\n",
       "0                                  0.5575   \n",
       "1                                  0.5575   \n",
       "2                                  0.5575   \n",
       "3                                  0.5575   \n",
       "4                                  0.5575   \n",
       "\n",
       "   full precision best_val_recall_on_10kHz  \\\n",
       "0                                   0.6672   \n",
       "1                                   0.6672   \n",
       "2                                   0.6672   \n",
       "3                                   0.6672   \n",
       "4                                   0.6672   \n",
       "\n",
       "   full precision best_val_recall_on_30kHz  \\\n",
       "0                                   0.7592   \n",
       "1                                   0.7592   \n",
       "2                                   0.7592   \n",
       "3                                   0.7592   \n",
       "4                                   0.7592   \n",
       "\n",
       "   full precision val_auroc_on_best_val_recall  recall 1kHz per relative cost  \\\n",
       "0                                        0.987                       1.848889   \n",
       "1                                        0.987                       1.872896   \n",
       "2                                        0.987                       1.576229   \n",
       "3                                        0.987                       0.056000   \n",
       "4                                        0.987                       2.745600   \n",
       "\n",
       "   recall 10kHz per relative cost  recall 30kHz per relative cost  \\\n",
       "0                        4.619378                        6.368711   \n",
       "1                        1.872896                        3.401728   \n",
       "2                        2.057404                        2.582988   \n",
       "3                        0.278400                        0.513600   \n",
       "4                        4.164978                        5.015467   \n",
       "\n",
       "   auroc per relative cost  \n",
       "0                26.737778  \n",
       "1                 4.880384  \n",
       "2                 5.088653  \n",
       "3                12.832000  \n",
       "4                 7.011556  "
      ]
     },
     "execution_count": 2,
     "metadata": {},
     "output_type": "execute_result"
    }
   ],
   "source": [
    "df = pd.read_csv(\"./QAT_results.csv\")\n",
    "df.head()"
   ]
  },
  {
   "cell_type": "code",
   "execution_count": 3,
   "metadata": {},
   "outputs": [],
   "source": [
    "result = df.pivot(index='int bitwidth', columns='fract bitwidth', values='recall 1kHz per relative cost')"
   ]
  },
  {
   "cell_type": "code",
   "execution_count": 4,
   "metadata": {},
   "outputs": [
    {
     "data": {
      "image/png": "[encoded data removed]",
      "text/plain": [
       "<Figure size 432x288 with 2 Axes>"
      ]
     },
     "metadata": {
      "needs_background": "light"
     },
     "output_type": "display_data"
    }
   ],
   "source": [
    "sns.heatmap(result, annot=True, fmt=\"g\", cmap='viridis')\n",
    "plt.title(\"test\")\n",
    "plt.show()"
   ]
  },
  {
   "cell_type": "code",
   "execution_count": 8,
   "metadata": {},
   "outputs": [
    {
     "data": {
      "text/plain": [
       "<Figure size 432x288 with 0 Axes>"
      ]
     },
     "metadata": {},
     "output_type": "display_data"
    }
   ],
   "source": [
    "value_l = [\n",
    "    'best recall 1kHz on validation data','10kHz recall on validation data',\n",
    "    '30kHz recall on validation data', 'auroc on validation data',\n",
    "    'recall 1kHz per relative cost', 'recall 10kHz per relative cost', \n",
    "    'recall 30kHz per relative cost', 'auroc per relative cost'\n",
    "]\n",
    "full_precision_dict = {\n",
    "    'auroc on validation data': 'full precision val_auroc_on_best_val_recall',\n",
    "\n",
    "}\n",
    "df = pd.read_csv(\"./QAT_results.csv\")\n",
    "for value in value_l:\n",
    "    result = df.pivot(index='int bitwidth', columns='fract bitwidth', values=value)\n",
    "    if value in full_precision_dict.keys():\n",
    "        full_precision_val = full_precision_dict[value]\n",
    "        result.insert(3,\"full precision\", df[full_precision_val][0])\n",
    "    sns.heatmap(result, annot=True, fmt=\"g\", cmap='viridis')\n",
    "    plt.title(value)\n",
    "    plt.savefig(f\"{value}_heatmap.png\", dpi=300)\n",
    "    plt.clf()\n"
   ]
  },
  {
   "cell_type": "code",
   "execution_count": 11,
   "metadata": {},
   "outputs": [],
   "source": [
    "result.insert(3,\"full precision\", df[\"full precision val_auroc_on_best_val_recall\"][0])"
   ]
  },
  {
   "cell_type": "code",
   "execution_count": 13,
   "metadata": {},
   "outputs": [
    {
     "data": {
      "text/plain": [
       "0    0.987\n",
       "1    0.987\n",
       "2    0.987\n",
       "3    0.987\n",
       "4    0.987\n",
       "5    0.987\n",
       "6    0.987\n",
       "7    0.987\n",
       "8    0.987\n",
       "Name: full precision val_auroc_on_best_val_recall, dtype: float64"
      ]
     },
     "execution_count": 13,
     "metadata": {},
     "output_type": "execute_result"
    }
   ],
   "source": [
    "df[\"full precision val_auroc_on_best_val_recall\"]"
   ]
  },
  {
   "cell_type": "code",
   "execution_count": null,
   "metadata": {},
   "outputs": [],
   "source": []
  }
 ],
 "metadata": {
  "kernelspec": {
   "display_name": "hls4ml",
   "language": "python",
   "name": "python3"
  },
  "language_info": {
   "codemirror_mode": {
    "name": "ipython",
    "version": 3
   },
   "file_extension": ".py",
   "mimetype": "text/x-python",
   "name": "python",
   "nbconvert_exporter": "python",
   "pygments_lexer": "ipython3",
   "version": "3.7.10"
  },
  "orig_nbformat": 4,
  "vscode": {
   "interpreter": {
    "hash": "c7122f7567b8da691c559ecf82c59435132e70cd34ec59ce5f537f2f68228d29"
   }
  }
 },
 "nbformat": 4,
 "nbformat_minor": 2
}
